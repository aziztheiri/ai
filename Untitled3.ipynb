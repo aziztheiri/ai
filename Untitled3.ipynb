{
  "nbformat": 4,
  "nbformat_minor": 0,
  "metadata": {
    "colab": {
      "provenance": [],
      "authorship_tag": "ABX9TyNao2Ygk6gFJ1LSc467unEn",
      "include_colab_link": true
    },
    "kernelspec": {
      "name": "python3",
      "display_name": "Python 3"
    },
    "language_info": {
      "name": "python"
    }
  },
  "cells": [
    {
      "cell_type": "markdown",
      "metadata": {
        "id": "view-in-github",
        "colab_type": "text"
      },
      "source": [
        "<a href=\"https://colab.research.google.com/github/aziztheiri/ai/blob/main/Untitled3.ipynb\" target=\"_parent\"><img src=\"https://colab.research.google.com/assets/colab-badge.svg\" alt=\"Open In Colab\"/></a>"
      ]
    },
    {
      "cell_type": "code",
      "execution_count": 1,
      "metadata": {
        "colab": {
          "base_uri": "https://localhost:8080/"
        },
        "id": "2CtQtzNEknYF",
        "outputId": "92b14e8f-214c-4205-c663-b595c0e05d5c"
      },
      "outputs": [
        {
          "output_type": "stream",
          "name": "stdout",
          "text": [
            "Merged intervals (JSON):\n",
            "[\n",
            "  {\n",
            "    \"start\": \"2025-09-01T09:00:00\",\n",
            "    \"end\": \"2025-09-01T12:00:00\"\n",
            "  },\n",
            "  {\n",
            "    \"start\": \"2025-09-02T08:00:00\",\n",
            "    \"end\": \"2025-09-02T09:30:00\"\n",
            "  }\n",
            "]\n"
          ]
        }
      ],
      "source": [
        "# planning.py\n",
        "\"\"\"\n",
        "Module minimal pour valider, fusionner et exporter des intervalles de planning.\n",
        "Formats acceptés pour les entrées : \"YYYY-MM-DD HH:MM\", \"YYYY-MM-DDTHH:MM\",\n",
        "ou avec secondes \"YYYY-MM-DD HH:MM:SS\" / \"YYYY-MM-DDTHH:MM:SS\".\n",
        "\"\"\"\n",
        "\n",
        "from datetime import datetime\n",
        "from typing import List, Tuple, Dict\n",
        "import json\n",
        "\n",
        "_DATETIME_FORMATS = [\n",
        "    \"%Y-%m-%d %H:%M\",\n",
        "    \"%Y-%m-%dT%H:%M\",\n",
        "    \"%Y-%m-%d %H:%M:%S\",\n",
        "    \"%Y-%m-%dT%H:%M:%S\",\n",
        "]\n",
        "\n",
        "def parse_datetime(s: str) -> datetime:\n",
        "    \"\"\"Parse une chaîne en datetime. Lève ValueError si aucun format ne convient.\"\"\"\n",
        "    if not isinstance(s, str):\n",
        "        raise ValueError(f\"datetime attendu en string, obténu: {type(s)}\")\n",
        "    for fmt in _DATETIME_FORMATS:\n",
        "        try:\n",
        "            return datetime.strptime(s, fmt)\n",
        "        except ValueError:\n",
        "            continue\n",
        "    raise ValueError(f\"Format datetime invalide : '{s}'. Utiliser 'YYYY-MM-DD HH:MM' ou 'YYYY-MM-DDTHH:MM'\")\n",
        "\n",
        "def _validate_and_convert(intervals: List[Dict[str, str]]) -> List[Tuple[datetime, datetime]]:\n",
        "    \"\"\"Valide la liste d'intervalles et retourne une liste de tuples datetime (start, end).\"\"\"\n",
        "    if not isinstance(intervals, list):\n",
        "        raise ValueError(\"Les intervalles doivent être fournis sous forme de liste.\")\n",
        "    out = []\n",
        "    for idx, itv in enumerate(intervals):\n",
        "        if not isinstance(itv, dict):\n",
        "            raise ValueError(f\"Intervalle à l'index {idx} n'est pas un dict.\")\n",
        "        if \"start\" not in itv or \"end\" not in itv:\n",
        "            raise ValueError(f\"Intervalle à l'index {idx} doit contenir 'start' et 'end'.\")\n",
        "        s = parse_datetime(itv[\"start\"])\n",
        "        e = parse_datetime(itv[\"end\"])\n",
        "        if s >= e:\n",
        "            raise ValueError(f\"Intervalle invalide à l'index {idx} : start >= end ({itv}).\")\n",
        "        out.append((s, e))\n",
        "    return out\n",
        "\n",
        "def merge_intervals(intervals: List[Dict[str, str]]) -> List[Dict[str, str]]:\n",
        "    \"\"\"\n",
        "    Prend une liste d'intervalles {'start': str, 'end': str},\n",
        "    valide, fusionne chevauchements/adjacents et renvoie une liste JSON-serializable\n",
        "    avec ISO format 'YYYY-MM-DDTHH:MM:SS'.\n",
        "    \"\"\"\n",
        "    dt_intervals = _validate_and_convert(intervals)\n",
        "    # Trier par start\n",
        "    dt_intervals.sort(key=lambda x: x[0])\n",
        "\n",
        "    merged: List[Tuple[datetime, datetime]] = []\n",
        "    for s, e in dt_intervals:\n",
        "        if not merged:\n",
        "            merged.append((s, e))\n",
        "            continue\n",
        "        last_s, last_e = merged[-1]\n",
        "        # on fusionne si chevauchement ou adjacent (s <= last_e)\n",
        "        if s <= last_e:\n",
        "            new_end = last_e if last_e >= e else e\n",
        "            merged[-1] = (last_s, new_end)\n",
        "        else:\n",
        "            merged.append((s, e))\n",
        "\n",
        "    # formater en ISO\n",
        "    formatted = [\n",
        "        {\"start\": st.isoformat(sep=\"T\", timespec=\"seconds\"), \"end\": en.isoformat(sep=\"T\", timespec=\"seconds\")}\n",
        "        for st, en in merged\n",
        "    ]\n",
        "    return formatted\n",
        "\n",
        "def to_json(intervals: List[Dict[str, str]], indent: int = 2) -> str:\n",
        "    \"\"\"Retourne la version JSON jolie (string) des intervalles fusionnés.\"\"\"\n",
        "    merged = merge_intervals(intervals)\n",
        "    return json.dumps(merged, indent=indent, ensure_ascii=False)\n",
        "\n",
        "if __name__ == \"__main__\":\n",
        "    # Petit exemple/demo\n",
        "    sample = [\n",
        "        {\"start\": \"2025-09-01 09:00\", \"end\": \"2025-09-01 11:00\"},\n",
        "        {\"start\": \"2025-09-01 10:30\", \"end\": \"2025-09-01 12:00\"},\n",
        "        {\"start\": \"2025-09-02T08:00\", \"end\": \"2025-09-02T09:00\"},\n",
        "        {\"start\": \"2025-09-02 09:00\", \"end\": \"2025-09-02 09:30\"},\n",
        "    ]\n",
        "    print(\"Merged intervals (JSON):\")\n",
        "    print(to_json(sample))\n"
      ]
    },
    {
      "cell_type": "code",
      "source": [
        "import unittest\n",
        "\n",
        "class TestPlanning(unittest.TestCase):\n",
        "    def test_merge_overlapping(self):\n",
        "        inp = [\n",
        "            {\"start\": \"2025-09-01 09:00\", \"end\": \"2025-09-01 11:00\"},\n",
        "            {\"start\": \"2025-09-01 10:30\", \"end\": \"2025-09-01 12:00\"},\n",
        "        ]\n",
        "        out = merge_intervals(inp)\n",
        "        self.assertEqual(len(out), 1)\n",
        "        self.assertEqual(out[0][\"start\"], \"2025-09-01T09:00:00\")\n",
        "        self.assertEqual(out[0][\"end\"],   \"2025-09-01T12:00:00\")\n",
        "\n",
        "    def test_merge_unsorted(self):\n",
        "        inp = [\n",
        "            {\"start\": \"2025-09-01 13:00\", \"end\": \"2025-09-01 14:00\"},\n",
        "            {\"start\": \"2025-09-01 09:00\", \"end\": \"2025-09-01 10:00\"},\n",
        "        ]\n",
        "        out = merge_intervals(inp)\n",
        "        self.assertEqual(len(out), 2)\n",
        "        self.assertEqual(out[0][\"start\"], \"2025-09-01T09:00:00\")\n",
        "\n",
        "    def test_adjacent_merge(self):\n",
        "        inp = [\n",
        "            {\"start\": \"2025-09-01 09:00\", \"end\": \"2025-09-01 10:00\"},\n",
        "            {\"start\": \"2025-09-01 10:00\", \"end\": \"2025-09-01 11:00\"},\n",
        "        ]\n",
        "        out = merge_intervals(inp)\n",
        "        self.assertEqual(len(out), 1)\n",
        "        self.assertEqual(out[0][\"end\"], \"2025-09-01T11:00:00\")\n",
        "\n",
        "    def test_invalid_format_raises(self):\n",
        "        with self.assertRaises(ValueError):\n",
        "            merge_intervals([{\"start\": \"2025/09/01 09:00\", \"end\": \"2025-09-01 10:00\"}])\n",
        "\n",
        "    def test_start_after_end_raises(self):\n",
        "        with self.assertRaises(ValueError):\n",
        "            merge_intervals([{\"start\": \"2025-09-01 11:00\", \"end\": \"2025-09-01 10:00\"}])\n",
        "\n",
        "# Lancer les tests directement dans Colab\n",
        "unittest.main(argv=[''], verbosity=2, exit=False)\n"
      ],
      "metadata": {
        "colab": {
          "base_uri": "https://localhost:8080/"
        },
        "id": "ROmAz9h4mUar",
        "outputId": "277e50be-5226-45dd-8e6d-5b464b94e15e"
      },
      "execution_count": 3,
      "outputs": [
        {
          "output_type": "stream",
          "name": "stderr",
          "text": [
            "test_adjacent_merge (__main__.TestPlanning.test_adjacent_merge) ... ok\n",
            "test_invalid_format_raises (__main__.TestPlanning.test_invalid_format_raises) ... ok\n",
            "test_merge_overlapping (__main__.TestPlanning.test_merge_overlapping) ... ok\n",
            "test_merge_unsorted (__main__.TestPlanning.test_merge_unsorted) ... ok\n",
            "test_start_after_end_raises (__main__.TestPlanning.test_start_after_end_raises) ... ok\n",
            "\n",
            "----------------------------------------------------------------------\n",
            "Ran 5 tests in 0.015s\n",
            "\n",
            "OK\n"
          ]
        },
        {
          "output_type": "execute_result",
          "data": {
            "text/plain": [
              "<unittest.main.TestProgram at 0x7f0ed2f3b740>"
            ]
          },
          "metadata": {},
          "execution_count": 3
        }
      ]
    }
  ]
}